{
 "cells": [
  {
   "cell_type": "code",
   "execution_count": 1,
   "metadata": {},
   "outputs": [],
   "source": [
    "import torch\n",
    "import torch_geometric\n",
    "\n",
    "import torch.nn as nn\n",
    "import torch.nn.functional as F\n",
    "import torch_geometric.transforms as T\n",
    "from torch_geometric.nn import EdgeConv, MessagePassing, EdgePooling\n",
    "from torch.nn import Sequential as Seq, Linear as Lin, ReLU\n",
    "from torch_scatter import scatter_mean\n",
    "from torch_geometric.nn.inits import reset\n",
    "from torch_geometric.data import Dataset, Data, DataLoader\n",
    "\n",
    "from glob import glob\n",
    "import numpy as np\n",
    "import os.path as osp\n",
    "\n",
    "import math"
   ]
  },
  {
   "cell_type": "code",
   "execution_count": 2,
   "metadata": {},
   "outputs": [],
   "source": [
    "device = torch.device('cuda' if torch.cuda.is_available() else 'cpu')"
   ]
  },
  {
   "cell_type": "code",
   "execution_count": 147,
   "metadata": {},
   "outputs": [],
   "source": [
    "class PFGraphDataset(Dataset):\n",
    "    def __init__(self, root, transform=None, pre_transform=None, connect_all=False, max_elements=None, max_candidates=None):\n",
    "        self._connect_all = connect_all\n",
    "        self._max_elements = max_elements\n",
    "        self._max_candidates = max_candidates\n",
    "        super(PFGraphDataset, self).__init__(root, transform, pre_transform)\n",
    "        self.raw_dir = root\n",
    "\n",
    "    @property\n",
    "    def raw_file_names(self):\n",
    "        raw_list = glob(self.raw_dir+'/*ev*.npz')\n",
    "        return sorted([l.replace(self.raw_dir,'.') for l in raw_list])\n",
    "\n",
    "    @property\n",
    "    def processed_file_names(self):\n",
    "        return ['data_{}.pt'.format(i) for i in range(len(self.raw_file_names))]\n",
    "\n",
    "    def __len__(self):\n",
    "        return len(self.processed_file_names)\n",
    "\n",
    "    def download(self):\n",
    "        # Download to `self.raw_dir`.\n",
    "        pass\n",
    "\n",
    "    def process(self):\n",
    "        feature_scale = np.array([1., 1., 1., 1., 1., 1., 1., 1.])\n",
    "        i = 0\n",
    "        \n",
    "        for raw_file_name in self.raw_file_names:\n",
    "            \n",
    "            dist_file_name = raw_file_name.replace('ev','dist')\n",
    "            print(\"loading data from files: {0}, {1}\".format(osp.join(self.raw_dir, raw_file_name), osp.join(self.raw_dir, dist_file_name)))\n",
    "            try:\n",
    "                fi = np.load(osp.join(self.raw_dir, raw_file_name))\n",
    "                fi_dist = np.load(osp.join(self.raw_dir, dist_file_name))\n",
    "            except Exception as e:\n",
    "                print(\"Could not open files: {0}, {1}\".format(osp.join(self.raw_dir, raw_file_name), osp.join(self.raw_dir, dist_file_name)))\n",
    "                continue\n",
    "            \n",
    "            X_elements = fi['elements'][:self._max_elements]\n",
    "            X_element_block_id = fi['element_block_id'][:self._max_elements]\n",
    "            y_candidates = fi['candidates'][:self._max_candidates, 1:]\n",
    "            y_candidate_block_id = fi['candidate_block_id'][:self._max_candidates]\n",
    "            num_elements = X_elements.shape[0]\n",
    "\n",
    "            row_index = fi_dist['row']\n",
    "            col_index = fi_dist['col']\n",
    "            num_edges = row_index.shape[0]\n",
    "\n",
    "            edge_index = np.zeros((2, 2*num_edges))\n",
    "            edge_index[0,:num_edges] = row_index\n",
    "            edge_index[1,:num_edges] = col_index\n",
    "            edge_index[0,num_edges:] = col_index\n",
    "            edge_index[1,num_edges:] = row_index\n",
    "            edge_index = torch.tensor(edge_index, dtype=torch.long)\n",
    "\n",
    "            edge_data = fi_dist['data']\n",
    "            edge_attr = np.zeros((2*num_edges,1))\n",
    "            edge_attr[:num_edges,0] = edge_data\n",
    "            edge_attr[num_edges:,0] = edge_data\n",
    "            edge_attr = torch.tensor(edge_attr, dtype=torch.float)\n",
    "\n",
    "            x = torch.tensor(X_elements/feature_scale, dtype=torch.float)\n",
    "\n",
    "            #y = [X_element_block_id[i]==X_element_block_id[j] for (i,j) in edge_index.t().contiguous()]\n",
    "            y = torch.tensor(y_candidates, dtype=torch.float)\n",
    "\n",
    "            data = Data(x=x, edge_index=edge_index, y=y, edge_attr=edge_attr)\n",
    "            data.x_cluster_labels = torch.tensor(X_element_block_id, dtype=torch.float)\n",
    "            data.y_cluster_labels = torch.tensor(y_candidate_block_id, dtype=torch.float)\n",
    "            \n",
    "            if self.pre_filter is not None and not self.pre_filter(data):\n",
    "                continue\n",
    "            if self.pre_transform is not None:\n",
    "                data = self.pre_transform(data)\n",
    "\n",
    "            torch.save(data, osp.join(self.processed_dir, 'data_{}.pt'.format(i)))\n",
    "            i += 1\n",
    "\n",
    "    def get(self, idx):\n",
    "        data = torch.load(osp.join(self.processed_dir, 'data_{}.pt'.format(idx)))\n",
    "        return data"
   ]
  },
  {
   "cell_type": "code",
   "execution_count": 148,
   "metadata": {},
   "outputs": [],
   "source": [
    "full_dataset = PFGraphDataset(root='../data/TTbar_run3')"
   ]
  },
  {
   "cell_type": "code",
   "execution_count": 149,
   "metadata": {},
   "outputs": [
    {
     "name": "stdout",
     "output_type": "stream",
     "text": [
      "mkdir: ../data/TTBar_run3/processed: File exists\r\n"
     ]
    }
   ],
   "source": [
    "!mkdir ../data/TTBar_run3/processed"
   ]
  },
  {
   "cell_type": "code",
   "execution_count": 150,
   "metadata": {
    "scrolled": false
   },
   "outputs": [
    {
     "name": "stdout",
     "output_type": "stream",
     "text": [
      "loading data from files: ../data/TTbar_run3/./step3_ntuple_1_ev0.npz, ../data/TTbar_run3/./step3_ntuple_1_dist0.npz\n",
      "loading data from files: ../data/TTbar_run3/./step3_ntuple_1_ev1.npz, ../data/TTbar_run3/./step3_ntuple_1_dist1.npz\n",
      "loading data from files: ../data/TTbar_run3/./step3_ntuple_1_ev10.npz, ../data/TTbar_run3/./step3_ntuple_1_dist10.npz\n",
      "loading data from files: ../data/TTbar_run3/./step3_ntuple_1_ev100.npz, ../data/TTbar_run3/./step3_ntuple_1_dist100.npz\n",
      "loading data from files: ../data/TTbar_run3/./step3_ntuple_1_ev101.npz, ../data/TTbar_run3/./step3_ntuple_1_dist101.npz\n",
      "loading data from files: ../data/TTbar_run3/./step3_ntuple_1_ev102.npz, ../data/TTbar_run3/./step3_ntuple_1_dist102.npz\n",
      "loading data from files: ../data/TTbar_run3/./step3_ntuple_1_ev103.npz, ../data/TTbar_run3/./step3_ntuple_1_dist103.npz\n",
      "loading data from files: ../data/TTbar_run3/./step3_ntuple_1_ev104.npz, ../data/TTbar_run3/./step3_ntuple_1_dist104.npz\n",
      "loading data from files: ../data/TTbar_run3/./step3_ntuple_1_ev105.npz, ../data/TTbar_run3/./step3_ntuple_1_dist105.npz\n",
      "loading data from files: ../data/TTbar_run3/./step3_ntuple_1_ev106.npz, ../data/TTbar_run3/./step3_ntuple_1_dist106.npz\n",
      "loading data from files: ../data/TTbar_run3/./step3_ntuple_1_ev107.npz, ../data/TTbar_run3/./step3_ntuple_1_dist107.npz\n",
      "loading data from files: ../data/TTbar_run3/./step3_ntuple_1_ev108.npz, ../data/TTbar_run3/./step3_ntuple_1_dist108.npz\n",
      "loading data from files: ../data/TTbar_run3/./step3_ntuple_1_ev109.npz, ../data/TTbar_run3/./step3_ntuple_1_dist109.npz\n",
      "loading data from files: ../data/TTbar_run3/./step3_ntuple_1_ev11.npz, ../data/TTbar_run3/./step3_ntuple_1_dist11.npz\n",
      "loading data from files: ../data/TTbar_run3/./step3_ntuple_1_ev110.npz, ../data/TTbar_run3/./step3_ntuple_1_dist110.npz\n",
      "loading data from files: ../data/TTbar_run3/./step3_ntuple_1_ev111.npz, ../data/TTbar_run3/./step3_ntuple_1_dist111.npz\n",
      "loading data from files: ../data/TTbar_run3/./step3_ntuple_1_ev112.npz, ../data/TTbar_run3/./step3_ntuple_1_dist112.npz\n",
      "loading data from files: ../data/TTbar_run3/./step3_ntuple_1_ev113.npz, ../data/TTbar_run3/./step3_ntuple_1_dist113.npz\n",
      "loading data from files: ../data/TTbar_run3/./step3_ntuple_1_ev114.npz, ../data/TTbar_run3/./step3_ntuple_1_dist114.npz\n",
      "loading data from files: ../data/TTbar_run3/./step3_ntuple_1_ev115.npz, ../data/TTbar_run3/./step3_ntuple_1_dist115.npz\n",
      "loading data from files: ../data/TTbar_run3/./step3_ntuple_1_ev116.npz, ../data/TTbar_run3/./step3_ntuple_1_dist116.npz\n",
      "loading data from files: ../data/TTbar_run3/./step3_ntuple_1_ev117.npz, ../data/TTbar_run3/./step3_ntuple_1_dist117.npz\n",
      "loading data from files: ../data/TTbar_run3/./step3_ntuple_1_ev118.npz, ../data/TTbar_run3/./step3_ntuple_1_dist118.npz\n",
      "loading data from files: ../data/TTbar_run3/./step3_ntuple_1_ev119.npz, ../data/TTbar_run3/./step3_ntuple_1_dist119.npz\n",
      "loading data from files: ../data/TTbar_run3/./step3_ntuple_1_ev12.npz, ../data/TTbar_run3/./step3_ntuple_1_dist12.npz\n",
      "loading data from files: ../data/TTbar_run3/./step3_ntuple_1_ev120.npz, ../data/TTbar_run3/./step3_ntuple_1_dist120.npz\n",
      "loading data from files: ../data/TTbar_run3/./step3_ntuple_1_ev121.npz, ../data/TTbar_run3/./step3_ntuple_1_dist121.npz\n",
      "loading data from files: ../data/TTbar_run3/./step3_ntuple_1_ev122.npz, ../data/TTbar_run3/./step3_ntuple_1_dist122.npz\n",
      "loading data from files: ../data/TTbar_run3/./step3_ntuple_1_ev123.npz, ../data/TTbar_run3/./step3_ntuple_1_dist123.npz\n",
      "loading data from files: ../data/TTbar_run3/./step3_ntuple_1_ev124.npz, ../data/TTbar_run3/./step3_ntuple_1_dist124.npz\n",
      "loading data from files: ../data/TTbar_run3/./step3_ntuple_1_ev125.npz, ../data/TTbar_run3/./step3_ntuple_1_dist125.npz\n",
      "loading data from files: ../data/TTbar_run3/./step3_ntuple_1_ev126.npz, ../data/TTbar_run3/./step3_ntuple_1_dist126.npz\n",
      "loading data from files: ../data/TTbar_run3/./step3_ntuple_1_ev127.npz, ../data/TTbar_run3/./step3_ntuple_1_dist127.npz\n",
      "loading data from files: ../data/TTbar_run3/./step3_ntuple_1_ev128.npz, ../data/TTbar_run3/./step3_ntuple_1_dist128.npz\n",
      "loading data from files: ../data/TTbar_run3/./step3_ntuple_1_ev129.npz, ../data/TTbar_run3/./step3_ntuple_1_dist129.npz\n",
      "loading data from files: ../data/TTbar_run3/./step3_ntuple_1_ev13.npz, ../data/TTbar_run3/./step3_ntuple_1_dist13.npz\n",
      "loading data from files: ../data/TTbar_run3/./step3_ntuple_1_ev130.npz, ../data/TTbar_run3/./step3_ntuple_1_dist130.npz\n",
      "loading data from files: ../data/TTbar_run3/./step3_ntuple_1_ev131.npz, ../data/TTbar_run3/./step3_ntuple_1_dist131.npz\n",
      "loading data from files: ../data/TTbar_run3/./step3_ntuple_1_ev132.npz, ../data/TTbar_run3/./step3_ntuple_1_dist132.npz\n",
      "loading data from files: ../data/TTbar_run3/./step3_ntuple_1_ev133.npz, ../data/TTbar_run3/./step3_ntuple_1_dist133.npz\n",
      "loading data from files: ../data/TTbar_run3/./step3_ntuple_1_ev134.npz, ../data/TTbar_run3/./step3_ntuple_1_dist134.npz\n",
      "loading data from files: ../data/TTbar_run3/./step3_ntuple_1_ev135.npz, ../data/TTbar_run3/./step3_ntuple_1_dist135.npz\n",
      "loading data from files: ../data/TTbar_run3/./step3_ntuple_1_ev136.npz, ../data/TTbar_run3/./step3_ntuple_1_dist136.npz\n",
      "loading data from files: ../data/TTbar_run3/./step3_ntuple_1_ev137.npz, ../data/TTbar_run3/./step3_ntuple_1_dist137.npz\n",
      "loading data from files: ../data/TTbar_run3/./step3_ntuple_1_ev138.npz, ../data/TTbar_run3/./step3_ntuple_1_dist138.npz\n",
      "loading data from files: ../data/TTbar_run3/./step3_ntuple_1_ev139.npz, ../data/TTbar_run3/./step3_ntuple_1_dist139.npz\n",
      "loading data from files: ../data/TTbar_run3/./step3_ntuple_1_ev14.npz, ../data/TTbar_run3/./step3_ntuple_1_dist14.npz\n",
      "loading data from files: ../data/TTbar_run3/./step3_ntuple_1_ev140.npz, ../data/TTbar_run3/./step3_ntuple_1_dist140.npz\n",
      "loading data from files: ../data/TTbar_run3/./step3_ntuple_1_ev141.npz, ../data/TTbar_run3/./step3_ntuple_1_dist141.npz\n",
      "loading data from files: ../data/TTbar_run3/./step3_ntuple_1_ev142.npz, ../data/TTbar_run3/./step3_ntuple_1_dist142.npz\n",
      "loading data from files: ../data/TTbar_run3/./step3_ntuple_1_ev143.npz, ../data/TTbar_run3/./step3_ntuple_1_dist143.npz\n",
      "loading data from files: ../data/TTbar_run3/./step3_ntuple_1_ev144.npz, ../data/TTbar_run3/./step3_ntuple_1_dist144.npz\n",
      "loading data from files: ../data/TTbar_run3/./step3_ntuple_1_ev145.npz, ../data/TTbar_run3/./step3_ntuple_1_dist145.npz\n",
      "loading data from files: ../data/TTbar_run3/./step3_ntuple_1_ev146.npz, ../data/TTbar_run3/./step3_ntuple_1_dist146.npz\n",
      "loading data from files: ../data/TTbar_run3/./step3_ntuple_1_ev147.npz, ../data/TTbar_run3/./step3_ntuple_1_dist147.npz\n",
      "loading data from files: ../data/TTbar_run3/./step3_ntuple_1_ev148.npz, ../data/TTbar_run3/./step3_ntuple_1_dist148.npz\n",
      "loading data from files: ../data/TTbar_run3/./step3_ntuple_1_ev149.npz, ../data/TTbar_run3/./step3_ntuple_1_dist149.npz\n",
      "loading data from files: ../data/TTbar_run3/./step3_ntuple_1_ev15.npz, ../data/TTbar_run3/./step3_ntuple_1_dist15.npz\n",
      "loading data from files: ../data/TTbar_run3/./step3_ntuple_1_ev150.npz, ../data/TTbar_run3/./step3_ntuple_1_dist150.npz\n",
      "loading data from files: ../data/TTbar_run3/./step3_ntuple_1_ev151.npz, ../data/TTbar_run3/./step3_ntuple_1_dist151.npz\n",
      "loading data from files: ../data/TTbar_run3/./step3_ntuple_1_ev152.npz, ../data/TTbar_run3/./step3_ntuple_1_dist152.npz\n",
      "loading data from files: ../data/TTbar_run3/./step3_ntuple_1_ev153.npz, ../data/TTbar_run3/./step3_ntuple_1_dist153.npz\n",
      "loading data from files: ../data/TTbar_run3/./step3_ntuple_1_ev154.npz, ../data/TTbar_run3/./step3_ntuple_1_dist154.npz\n",
      "loading data from files: ../data/TTbar_run3/./step3_ntuple_1_ev155.npz, ../data/TTbar_run3/./step3_ntuple_1_dist155.npz\n",
      "loading data from files: ../data/TTbar_run3/./step3_ntuple_1_ev156.npz, ../data/TTbar_run3/./step3_ntuple_1_dist156.npz\n",
      "loading data from files: ../data/TTbar_run3/./step3_ntuple_1_ev157.npz, ../data/TTbar_run3/./step3_ntuple_1_dist157.npz\n",
      "loading data from files: ../data/TTbar_run3/./step3_ntuple_1_ev158.npz, ../data/TTbar_run3/./step3_ntuple_1_dist158.npz\n",
      "loading data from files: ../data/TTbar_run3/./step3_ntuple_1_ev159.npz, ../data/TTbar_run3/./step3_ntuple_1_dist159.npz\n",
      "loading data from files: ../data/TTbar_run3/./step3_ntuple_1_ev16.npz, ../data/TTbar_run3/./step3_ntuple_1_dist16.npz\n",
      "loading data from files: ../data/TTbar_run3/./step3_ntuple_1_ev160.npz, ../data/TTbar_run3/./step3_ntuple_1_dist160.npz\n",
      "loading data from files: ../data/TTbar_run3/./step3_ntuple_1_ev161.npz, ../data/TTbar_run3/./step3_ntuple_1_dist161.npz\n",
      "loading data from files: ../data/TTbar_run3/./step3_ntuple_1_ev162.npz, ../data/TTbar_run3/./step3_ntuple_1_dist162.npz\n",
      "loading data from files: ../data/TTbar_run3/./step3_ntuple_1_ev163.npz, ../data/TTbar_run3/./step3_ntuple_1_dist163.npz\n",
      "loading data from files: ../data/TTbar_run3/./step3_ntuple_1_ev164.npz, ../data/TTbar_run3/./step3_ntuple_1_dist164.npz\n",
      "loading data from files: ../data/TTbar_run3/./step3_ntuple_1_ev165.npz, ../data/TTbar_run3/./step3_ntuple_1_dist165.npz\n",
      "loading data from files: ../data/TTbar_run3/./step3_ntuple_1_ev166.npz, ../data/TTbar_run3/./step3_ntuple_1_dist166.npz\n",
      "loading data from files: ../data/TTbar_run3/./step3_ntuple_1_ev167.npz, ../data/TTbar_run3/./step3_ntuple_1_dist167.npz\n",
      "loading data from files: ../data/TTbar_run3/./step3_ntuple_1_ev168.npz, ../data/TTbar_run3/./step3_ntuple_1_dist168.npz\n",
      "loading data from files: ../data/TTbar_run3/./step3_ntuple_1_ev169.npz, ../data/TTbar_run3/./step3_ntuple_1_dist169.npz\n"
     ]
    },
    {
     "name": "stdout",
     "output_type": "stream",
     "text": [
      "loading data from files: ../data/TTbar_run3/./step3_ntuple_1_ev17.npz, ../data/TTbar_run3/./step3_ntuple_1_dist17.npz\n",
      "loading data from files: ../data/TTbar_run3/./step3_ntuple_1_ev170.npz, ../data/TTbar_run3/./step3_ntuple_1_dist170.npz\n",
      "loading data from files: ../data/TTbar_run3/./step3_ntuple_1_ev171.npz, ../data/TTbar_run3/./step3_ntuple_1_dist171.npz\n",
      "loading data from files: ../data/TTbar_run3/./step3_ntuple_1_ev172.npz, ../data/TTbar_run3/./step3_ntuple_1_dist172.npz\n",
      "loading data from files: ../data/TTbar_run3/./step3_ntuple_1_ev173.npz, ../data/TTbar_run3/./step3_ntuple_1_dist173.npz\n",
      "loading data from files: ../data/TTbar_run3/./step3_ntuple_1_ev174.npz, ../data/TTbar_run3/./step3_ntuple_1_dist174.npz\n",
      "loading data from files: ../data/TTbar_run3/./step3_ntuple_1_ev175.npz, ../data/TTbar_run3/./step3_ntuple_1_dist175.npz\n",
      "loading data from files: ../data/TTbar_run3/./step3_ntuple_1_ev176.npz, ../data/TTbar_run3/./step3_ntuple_1_dist176.npz\n",
      "loading data from files: ../data/TTbar_run3/./step3_ntuple_1_ev177.npz, ../data/TTbar_run3/./step3_ntuple_1_dist177.npz\n",
      "loading data from files: ../data/TTbar_run3/./step3_ntuple_1_ev178.npz, ../data/TTbar_run3/./step3_ntuple_1_dist178.npz\n",
      "loading data from files: ../data/TTbar_run3/./step3_ntuple_1_ev179.npz, ../data/TTbar_run3/./step3_ntuple_1_dist179.npz\n",
      "loading data from files: ../data/TTbar_run3/./step3_ntuple_1_ev18.npz, ../data/TTbar_run3/./step3_ntuple_1_dist18.npz\n",
      "loading data from files: ../data/TTbar_run3/./step3_ntuple_1_ev180.npz, ../data/TTbar_run3/./step3_ntuple_1_dist180.npz\n",
      "loading data from files: ../data/TTbar_run3/./step3_ntuple_1_ev181.npz, ../data/TTbar_run3/./step3_ntuple_1_dist181.npz\n",
      "loading data from files: ../data/TTbar_run3/./step3_ntuple_1_ev182.npz, ../data/TTbar_run3/./step3_ntuple_1_dist182.npz\n",
      "loading data from files: ../data/TTbar_run3/./step3_ntuple_1_ev183.npz, ../data/TTbar_run3/./step3_ntuple_1_dist183.npz\n",
      "loading data from files: ../data/TTbar_run3/./step3_ntuple_1_ev184.npz, ../data/TTbar_run3/./step3_ntuple_1_dist184.npz\n",
      "loading data from files: ../data/TTbar_run3/./step3_ntuple_1_ev185.npz, ../data/TTbar_run3/./step3_ntuple_1_dist185.npz\n",
      "loading data from files: ../data/TTbar_run3/./step3_ntuple_1_ev186.npz, ../data/TTbar_run3/./step3_ntuple_1_dist186.npz\n",
      "loading data from files: ../data/TTbar_run3/./step3_ntuple_1_ev187.npz, ../data/TTbar_run3/./step3_ntuple_1_dist187.npz\n",
      "loading data from files: ../data/TTbar_run3/./step3_ntuple_1_ev188.npz, ../data/TTbar_run3/./step3_ntuple_1_dist188.npz\n",
      "loading data from files: ../data/TTbar_run3/./step3_ntuple_1_ev189.npz, ../data/TTbar_run3/./step3_ntuple_1_dist189.npz\n",
      "loading data from files: ../data/TTbar_run3/./step3_ntuple_1_ev19.npz, ../data/TTbar_run3/./step3_ntuple_1_dist19.npz\n",
      "loading data from files: ../data/TTbar_run3/./step3_ntuple_1_ev190.npz, ../data/TTbar_run3/./step3_ntuple_1_dist190.npz\n",
      "loading data from files: ../data/TTbar_run3/./step3_ntuple_1_ev191.npz, ../data/TTbar_run3/./step3_ntuple_1_dist191.npz\n",
      "loading data from files: ../data/TTbar_run3/./step3_ntuple_1_ev192.npz, ../data/TTbar_run3/./step3_ntuple_1_dist192.npz\n",
      "loading data from files: ../data/TTbar_run3/./step3_ntuple_1_ev193.npz, ../data/TTbar_run3/./step3_ntuple_1_dist193.npz\n",
      "loading data from files: ../data/TTbar_run3/./step3_ntuple_1_ev194.npz, ../data/TTbar_run3/./step3_ntuple_1_dist194.npz\n",
      "loading data from files: ../data/TTbar_run3/./step3_ntuple_1_ev195.npz, ../data/TTbar_run3/./step3_ntuple_1_dist195.npz\n",
      "loading data from files: ../data/TTbar_run3/./step3_ntuple_1_ev196.npz, ../data/TTbar_run3/./step3_ntuple_1_dist196.npz\n",
      "loading data from files: ../data/TTbar_run3/./step3_ntuple_1_ev197.npz, ../data/TTbar_run3/./step3_ntuple_1_dist197.npz\n",
      "loading data from files: ../data/TTbar_run3/./step3_ntuple_1_ev198.npz, ../data/TTbar_run3/./step3_ntuple_1_dist198.npz\n",
      "loading data from files: ../data/TTbar_run3/./step3_ntuple_1_ev199.npz, ../data/TTbar_run3/./step3_ntuple_1_dist199.npz\n",
      "loading data from files: ../data/TTbar_run3/./step3_ntuple_1_ev2.npz, ../data/TTbar_run3/./step3_ntuple_1_dist2.npz\n",
      "loading data from files: ../data/TTbar_run3/./step3_ntuple_1_ev20.npz, ../data/TTbar_run3/./step3_ntuple_1_dist20.npz\n",
      "loading data from files: ../data/TTbar_run3/./step3_ntuple_1_ev21.npz, ../data/TTbar_run3/./step3_ntuple_1_dist21.npz\n",
      "loading data from files: ../data/TTbar_run3/./step3_ntuple_1_ev22.npz, ../data/TTbar_run3/./step3_ntuple_1_dist22.npz\n",
      "loading data from files: ../data/TTbar_run3/./step3_ntuple_1_ev23.npz, ../data/TTbar_run3/./step3_ntuple_1_dist23.npz\n",
      "loading data from files: ../data/TTbar_run3/./step3_ntuple_1_ev24.npz, ../data/TTbar_run3/./step3_ntuple_1_dist24.npz\n",
      "loading data from files: ../data/TTbar_run3/./step3_ntuple_1_ev25.npz, ../data/TTbar_run3/./step3_ntuple_1_dist25.npz\n",
      "loading data from files: ../data/TTbar_run3/./step3_ntuple_1_ev26.npz, ../data/TTbar_run3/./step3_ntuple_1_dist26.npz\n",
      "loading data from files: ../data/TTbar_run3/./step3_ntuple_1_ev27.npz, ../data/TTbar_run3/./step3_ntuple_1_dist27.npz\n",
      "loading data from files: ../data/TTbar_run3/./step3_ntuple_1_ev28.npz, ../data/TTbar_run3/./step3_ntuple_1_dist28.npz\n",
      "loading data from files: ../data/TTbar_run3/./step3_ntuple_1_ev29.npz, ../data/TTbar_run3/./step3_ntuple_1_dist29.npz\n",
      "loading data from files: ../data/TTbar_run3/./step3_ntuple_1_ev3.npz, ../data/TTbar_run3/./step3_ntuple_1_dist3.npz\n",
      "loading data from files: ../data/TTbar_run3/./step3_ntuple_1_ev30.npz, ../data/TTbar_run3/./step3_ntuple_1_dist30.npz\n",
      "loading data from files: ../data/TTbar_run3/./step3_ntuple_1_ev31.npz, ../data/TTbar_run3/./step3_ntuple_1_dist31.npz\n",
      "loading data from files: ../data/TTbar_run3/./step3_ntuple_1_ev32.npz, ../data/TTbar_run3/./step3_ntuple_1_dist32.npz\n",
      "loading data from files: ../data/TTbar_run3/./step3_ntuple_1_ev33.npz, ../data/TTbar_run3/./step3_ntuple_1_dist33.npz\n",
      "loading data from files: ../data/TTbar_run3/./step3_ntuple_1_ev34.npz, ../data/TTbar_run3/./step3_ntuple_1_dist34.npz\n",
      "loading data from files: ../data/TTbar_run3/./step3_ntuple_1_ev35.npz, ../data/TTbar_run3/./step3_ntuple_1_dist35.npz\n",
      "loading data from files: ../data/TTbar_run3/./step3_ntuple_1_ev36.npz, ../data/TTbar_run3/./step3_ntuple_1_dist36.npz\n",
      "loading data from files: ../data/TTbar_run3/./step3_ntuple_1_ev37.npz, ../data/TTbar_run3/./step3_ntuple_1_dist37.npz\n",
      "loading data from files: ../data/TTbar_run3/./step3_ntuple_1_ev38.npz, ../data/TTbar_run3/./step3_ntuple_1_dist38.npz\n",
      "loading data from files: ../data/TTbar_run3/./step3_ntuple_1_ev39.npz, ../data/TTbar_run3/./step3_ntuple_1_dist39.npz\n",
      "loading data from files: ../data/TTbar_run3/./step3_ntuple_1_ev4.npz, ../data/TTbar_run3/./step3_ntuple_1_dist4.npz\n",
      "loading data from files: ../data/TTbar_run3/./step3_ntuple_1_ev40.npz, ../data/TTbar_run3/./step3_ntuple_1_dist40.npz\n",
      "loading data from files: ../data/TTbar_run3/./step3_ntuple_1_ev41.npz, ../data/TTbar_run3/./step3_ntuple_1_dist41.npz\n",
      "loading data from files: ../data/TTbar_run3/./step3_ntuple_1_ev42.npz, ../data/TTbar_run3/./step3_ntuple_1_dist42.npz\n",
      "loading data from files: ../data/TTbar_run3/./step3_ntuple_1_ev43.npz, ../data/TTbar_run3/./step3_ntuple_1_dist43.npz\n",
      "loading data from files: ../data/TTbar_run3/./step3_ntuple_1_ev44.npz, ../data/TTbar_run3/./step3_ntuple_1_dist44.npz\n",
      "loading data from files: ../data/TTbar_run3/./step3_ntuple_1_ev45.npz, ../data/TTbar_run3/./step3_ntuple_1_dist45.npz\n",
      "loading data from files: ../data/TTbar_run3/./step3_ntuple_1_ev46.npz, ../data/TTbar_run3/./step3_ntuple_1_dist46.npz\n",
      "loading data from files: ../data/TTbar_run3/./step3_ntuple_1_ev47.npz, ../data/TTbar_run3/./step3_ntuple_1_dist47.npz\n",
      "loading data from files: ../data/TTbar_run3/./step3_ntuple_1_ev48.npz, ../data/TTbar_run3/./step3_ntuple_1_dist48.npz\n",
      "loading data from files: ../data/TTbar_run3/./step3_ntuple_1_ev49.npz, ../data/TTbar_run3/./step3_ntuple_1_dist49.npz\n",
      "loading data from files: ../data/TTbar_run3/./step3_ntuple_1_ev5.npz, ../data/TTbar_run3/./step3_ntuple_1_dist5.npz\n",
      "loading data from files: ../data/TTbar_run3/./step3_ntuple_1_ev50.npz, ../data/TTbar_run3/./step3_ntuple_1_dist50.npz\n",
      "loading data from files: ../data/TTbar_run3/./step3_ntuple_1_ev51.npz, ../data/TTbar_run3/./step3_ntuple_1_dist51.npz\n",
      "loading data from files: ../data/TTbar_run3/./step3_ntuple_1_ev52.npz, ../data/TTbar_run3/./step3_ntuple_1_dist52.npz\n",
      "loading data from files: ../data/TTbar_run3/./step3_ntuple_1_ev53.npz, ../data/TTbar_run3/./step3_ntuple_1_dist53.npz\n",
      "loading data from files: ../data/TTbar_run3/./step3_ntuple_1_ev54.npz, ../data/TTbar_run3/./step3_ntuple_1_dist54.npz\n",
      "loading data from files: ../data/TTbar_run3/./step3_ntuple_1_ev55.npz, ../data/TTbar_run3/./step3_ntuple_1_dist55.npz\n",
      "loading data from files: ../data/TTbar_run3/./step3_ntuple_1_ev56.npz, ../data/TTbar_run3/./step3_ntuple_1_dist56.npz\n",
      "loading data from files: ../data/TTbar_run3/./step3_ntuple_1_ev57.npz, ../data/TTbar_run3/./step3_ntuple_1_dist57.npz\n",
      "loading data from files: ../data/TTbar_run3/./step3_ntuple_1_ev58.npz, ../data/TTbar_run3/./step3_ntuple_1_dist58.npz\n",
      "loading data from files: ../data/TTbar_run3/./step3_ntuple_1_ev59.npz, ../data/TTbar_run3/./step3_ntuple_1_dist59.npz\n",
      "loading data from files: ../data/TTbar_run3/./step3_ntuple_1_ev6.npz, ../data/TTbar_run3/./step3_ntuple_1_dist6.npz\n",
      "loading data from files: ../data/TTbar_run3/./step3_ntuple_1_ev60.npz, ../data/TTbar_run3/./step3_ntuple_1_dist60.npz\n"
     ]
    },
    {
     "name": "stdout",
     "output_type": "stream",
     "text": [
      "loading data from files: ../data/TTbar_run3/./step3_ntuple_1_ev61.npz, ../data/TTbar_run3/./step3_ntuple_1_dist61.npz\n",
      "loading data from files: ../data/TTbar_run3/./step3_ntuple_1_ev62.npz, ../data/TTbar_run3/./step3_ntuple_1_dist62.npz\n",
      "loading data from files: ../data/TTbar_run3/./step3_ntuple_1_ev63.npz, ../data/TTbar_run3/./step3_ntuple_1_dist63.npz\n",
      "loading data from files: ../data/TTbar_run3/./step3_ntuple_1_ev64.npz, ../data/TTbar_run3/./step3_ntuple_1_dist64.npz\n",
      "loading data from files: ../data/TTbar_run3/./step3_ntuple_1_ev65.npz, ../data/TTbar_run3/./step3_ntuple_1_dist65.npz\n",
      "loading data from files: ../data/TTbar_run3/./step3_ntuple_1_ev66.npz, ../data/TTbar_run3/./step3_ntuple_1_dist66.npz\n",
      "loading data from files: ../data/TTbar_run3/./step3_ntuple_1_ev67.npz, ../data/TTbar_run3/./step3_ntuple_1_dist67.npz\n",
      "loading data from files: ../data/TTbar_run3/./step3_ntuple_1_ev68.npz, ../data/TTbar_run3/./step3_ntuple_1_dist68.npz\n",
      "loading data from files: ../data/TTbar_run3/./step3_ntuple_1_ev69.npz, ../data/TTbar_run3/./step3_ntuple_1_dist69.npz\n",
      "loading data from files: ../data/TTbar_run3/./step3_ntuple_1_ev7.npz, ../data/TTbar_run3/./step3_ntuple_1_dist7.npz\n",
      "loading data from files: ../data/TTbar_run3/./step3_ntuple_1_ev70.npz, ../data/TTbar_run3/./step3_ntuple_1_dist70.npz\n",
      "loading data from files: ../data/TTbar_run3/./step3_ntuple_1_ev71.npz, ../data/TTbar_run3/./step3_ntuple_1_dist71.npz\n",
      "loading data from files: ../data/TTbar_run3/./step3_ntuple_1_ev72.npz, ../data/TTbar_run3/./step3_ntuple_1_dist72.npz\n",
      "loading data from files: ../data/TTbar_run3/./step3_ntuple_1_ev73.npz, ../data/TTbar_run3/./step3_ntuple_1_dist73.npz\n",
      "loading data from files: ../data/TTbar_run3/./step3_ntuple_1_ev74.npz, ../data/TTbar_run3/./step3_ntuple_1_dist74.npz\n",
      "loading data from files: ../data/TTbar_run3/./step3_ntuple_1_ev75.npz, ../data/TTbar_run3/./step3_ntuple_1_dist75.npz\n",
      "loading data from files: ../data/TTbar_run3/./step3_ntuple_1_ev76.npz, ../data/TTbar_run3/./step3_ntuple_1_dist76.npz\n",
      "loading data from files: ../data/TTbar_run3/./step3_ntuple_1_ev77.npz, ../data/TTbar_run3/./step3_ntuple_1_dist77.npz\n",
      "loading data from files: ../data/TTbar_run3/./step3_ntuple_1_ev78.npz, ../data/TTbar_run3/./step3_ntuple_1_dist78.npz\n",
      "loading data from files: ../data/TTbar_run3/./step3_ntuple_1_ev79.npz, ../data/TTbar_run3/./step3_ntuple_1_dist79.npz\n",
      "loading data from files: ../data/TTbar_run3/./step3_ntuple_1_ev8.npz, ../data/TTbar_run3/./step3_ntuple_1_dist8.npz\n",
      "loading data from files: ../data/TTbar_run3/./step3_ntuple_1_ev80.npz, ../data/TTbar_run3/./step3_ntuple_1_dist80.npz\n",
      "loading data from files: ../data/TTbar_run3/./step3_ntuple_1_ev81.npz, ../data/TTbar_run3/./step3_ntuple_1_dist81.npz\n",
      "loading data from files: ../data/TTbar_run3/./step3_ntuple_1_ev82.npz, ../data/TTbar_run3/./step3_ntuple_1_dist82.npz\n",
      "loading data from files: ../data/TTbar_run3/./step3_ntuple_1_ev83.npz, ../data/TTbar_run3/./step3_ntuple_1_dist83.npz\n",
      "loading data from files: ../data/TTbar_run3/./step3_ntuple_1_ev84.npz, ../data/TTbar_run3/./step3_ntuple_1_dist84.npz\n",
      "loading data from files: ../data/TTbar_run3/./step3_ntuple_1_ev85.npz, ../data/TTbar_run3/./step3_ntuple_1_dist85.npz\n",
      "loading data from files: ../data/TTbar_run3/./step3_ntuple_1_ev86.npz, ../data/TTbar_run3/./step3_ntuple_1_dist86.npz\n",
      "loading data from files: ../data/TTbar_run3/./step3_ntuple_1_ev87.npz, ../data/TTbar_run3/./step3_ntuple_1_dist87.npz\n",
      "loading data from files: ../data/TTbar_run3/./step3_ntuple_1_ev88.npz, ../data/TTbar_run3/./step3_ntuple_1_dist88.npz\n",
      "loading data from files: ../data/TTbar_run3/./step3_ntuple_1_ev89.npz, ../data/TTbar_run3/./step3_ntuple_1_dist89.npz\n",
      "loading data from files: ../data/TTbar_run3/./step3_ntuple_1_ev9.npz, ../data/TTbar_run3/./step3_ntuple_1_dist9.npz\n",
      "loading data from files: ../data/TTbar_run3/./step3_ntuple_1_ev90.npz, ../data/TTbar_run3/./step3_ntuple_1_dist90.npz\n",
      "loading data from files: ../data/TTbar_run3/./step3_ntuple_1_ev91.npz, ../data/TTbar_run3/./step3_ntuple_1_dist91.npz\n",
      "loading data from files: ../data/TTbar_run3/./step3_ntuple_1_ev92.npz, ../data/TTbar_run3/./step3_ntuple_1_dist92.npz\n",
      "loading data from files: ../data/TTbar_run3/./step3_ntuple_1_ev93.npz, ../data/TTbar_run3/./step3_ntuple_1_dist93.npz\n",
      "loading data from files: ../data/TTbar_run3/./step3_ntuple_1_ev94.npz, ../data/TTbar_run3/./step3_ntuple_1_dist94.npz\n",
      "loading data from files: ../data/TTbar_run3/./step3_ntuple_1_ev95.npz, ../data/TTbar_run3/./step3_ntuple_1_dist95.npz\n",
      "loading data from files: ../data/TTbar_run3/./step3_ntuple_1_ev96.npz, ../data/TTbar_run3/./step3_ntuple_1_dist96.npz\n",
      "loading data from files: ../data/TTbar_run3/./step3_ntuple_1_ev97.npz, ../data/TTbar_run3/./step3_ntuple_1_dist97.npz\n",
      "loading data from files: ../data/TTbar_run3/./step3_ntuple_1_ev98.npz, ../data/TTbar_run3/./step3_ntuple_1_dist98.npz\n",
      "loading data from files: ../data/TTbar_run3/./step3_ntuple_1_ev99.npz, ../data/TTbar_run3/./step3_ntuple_1_dist99.npz\n"
     ]
    }
   ],
   "source": [
    "full_dataset.process()"
   ]
  },
  {
   "cell_type": "code",
   "execution_count": 151,
   "metadata": {},
   "outputs": [],
   "source": [
    "data = full_dataset.get(0)\n",
    "input_dim = data.x.shape[1]\n",
    "edge_dim = data.edge_attr.shape[1]\n",
    "fulllen = len(full_dataset)\n",
    "\n",
    "tv_frac = 0.10\n",
    "tv_num = math.ceil(fulllen*tv_frac)\n",
    "splits = np.cumsum([fulllen-2*tv_num,tv_num,tv_num])\n",
    "\n",
    "batch_size = 64\n",
    "n_epochs = 100\n",
    "lr = 0.01\n",
    "patience = 10\n",
    "hidden_dim = 32\n",
    "n_iters = 1"
   ]
  },
  {
   "cell_type": "code",
   "execution_count": 201,
   "metadata": {},
   "outputs": [],
   "source": [
    "class EdgeConvWithEdgeAttr(MessagePassing):\n",
    "    def __init__(self, nn, aggr='max', **kwargs):\n",
    "        super(EdgeConvWithEdgeAttr, self).__init__(aggr=aggr, **kwargs)\n",
    "        self.nn = nn\n",
    "        self.reset_parameters()\n",
    "\n",
    "    def reset_parameters(self):\n",
    "        reset(self.nn)\n",
    "\n",
    "    def forward(self, x, edge_index, edge_attr):\n",
    "        \"\"\"\"\"\"\n",
    "        x = x.unsqueeze(-1) if x.dim() == 1 else x\n",
    "        pseudo = edge_attr.unsqueeze(-1) if edge_attr.dim() == 1 else edge_attr\n",
    "        return self.propagate(edge_index, x=x, pseudo=pseudo)\n",
    "\n",
    "    def message(self, x_i, x_j, pseudo):\n",
    "        return self.nn(torch.cat([x_i, x_j - x_i, pseudo], dim=1))\n",
    "\n",
    "    def __repr__(self):\n",
    "        return '{}(nn={})'.format(self.__class__.__name__, self.nn)\n",
    "\n",
    "class EdgeNet(nn.Module):\n",
    "    def __init__(self, input_dim=3, hidden_dim=32, edge_dim=1, output_dim=1, n_iters=1, aggr='add'):\n",
    "        super(EdgeNet, self).__init__()\n",
    "        \n",
    "        convnn = nn.Sequential(nn.Linear(2*(hidden_dim + input_dim)+edge_dim, 2*hidden_dim),\n",
    "                               nn.Tanh(),\n",
    "                               nn.Linear(2*hidden_dim, hidden_dim),\n",
    "                               nn.Tanh()\n",
    "        )\n",
    "        self.n_iters = n_iters\n",
    "        \n",
    "        #self.batchnorm = nn.BatchNorm1d(input_dim)\n",
    "\n",
    "        self.inputnet =  nn.Sequential(\n",
    "            nn.Linear(input_dim, hidden_dim),\n",
    "            nn.Tanh(),\n",
    "            nn.Linear(hidden_dim, hidden_dim),\n",
    "            nn.Tanh(),\n",
    "            nn.Linear(hidden_dim, hidden_dim),\n",
    "            nn.Tanh()\n",
    "        )\n",
    "\n",
    "#         self.edgenetwork = nn.Sequential(nn.Linear(2*(hidden_dim+input_dim)+edge_dim,2*hidden_dim),\n",
    "#                                          nn.ReLU(),\n",
    "#                                          nn.Linear(2*hidden_dim, output_dim),\n",
    "#                                          nn.Sigmoid())\n",
    "\n",
    "        self.nodenetwork = EdgeConvWithEdgeAttr(nn=convnn, aggr=aggr)\n",
    "        \n",
    "        self.pooling1 = EdgePooling(40, edge_score_method=EdgePooling.compute_edge_score_tanh)\n",
    "        self.pooling2 = EdgePooling(40, edge_score_method=EdgePooling.compute_edge_score_tanh)\n",
    "        \n",
    "        self.outnetwork = nn.Sequential(nn.Linear(40, 100),\n",
    "                               nn.Tanh(),\n",
    "                               nn.Linear(100, 100),\n",
    "                               nn.Tanh(),\n",
    "                               nn.Linear(100, 100),\n",
    "                               nn.Tanh(),\n",
    "                               nn.Linear(100, 3),\n",
    "        )\n",
    "\n",
    "    def forward(self, data):        \n",
    "        X = data.x\n",
    "        H = self.inputnet(data.x)\n",
    "        x = torch.cat([H,X],dim=-1)\n",
    "\n",
    "        for i in range(self.n_iters):\n",
    "            H = self.nodenetwork(x, data.edge_index, data.edge_attr)\n",
    "            x = torch.cat([H,X],dim=-1)\n",
    "\n",
    "        #row,col = data.edge_index        \n",
    "        #output = self.edgenetwork(torch.cat([x[row], x[col], data.edge_attr],dim=-1)).squeeze(-1)\n",
    "\n",
    "        pooled, edge_index, batch, unpool_info1 = self.pooling1(x, data.edge_index, data.batch)\n",
    "        pooled, edge_index, batch, unpool_info2 = self.pooling2(pooled, edge_index, batch)\n",
    "        #pooled: (N, 40)\n",
    "        \n",
    "        r = self.outnetwork(pooled)\n",
    "        \n",
    "        #print(unpool_info)\n",
    "        #print(x.shape, pooled.shape, r.shape, unpool_info.cluster.shape)\n",
    "        \n",
    "        return r, unpool_info1.cluster, unpool_info2.cluster"
   ]
  },
  {
   "cell_type": "code",
   "execution_count": null,
   "metadata": {
    "scrolled": false
   },
   "outputs": [
    {
     "name": "stdout",
     "output_type": "stream",
     "text": [
      "EdgeNet(\n",
      "  (inputnet): Sequential(\n",
      "    (0): Linear(in_features=8, out_features=32, bias=True)\n",
      "    (1): Tanh()\n",
      "    (2): Linear(in_features=32, out_features=32, bias=True)\n",
      "    (3): Tanh()\n",
      "    (4): Linear(in_features=32, out_features=32, bias=True)\n",
      "    (5): Tanh()\n",
      "  )\n",
      "  (nodenetwork): EdgeConvWithEdgeAttr(nn=Sequential(\n",
      "    (0): Linear(in_features=81, out_features=64, bias=True)\n",
      "    (1): Tanh()\n",
      "    (2): Linear(in_features=64, out_features=32, bias=True)\n",
      "    (3): Tanh()\n",
      "  ))\n",
      "  (pooling1): EdgePooling(40)\n",
      "  (pooling2): EdgePooling(40)\n",
      "  (outnetwork): Sequential(\n",
      "    (0): Linear(in_features=40, out_features=100, bias=True)\n",
      "    (1): Tanh()\n",
      "    (2): Linear(in_features=100, out_features=100, bias=True)\n",
      "    (3): Tanh()\n",
      "    (4): Linear(in_features=100, out_features=100, bias=True)\n",
      "    (5): Tanh()\n",
      "    (6): Linear(in_features=100, out_features=3, bias=True)\n",
      "  )\n",
      ")\n",
      "34493\n"
     ]
    },
    {
     "name": "stderr",
     "output_type": "stream",
     "text": [
      "/Users/joosep/anaconda3/lib/python3.7/site-packages/ipykernel_launcher.py:33: UserWarning: To copy construct from a tensor, it is recommended to use sourceTensor.clone().detach() or sourceTensor.clone().detach().requires_grad_(True), rather than torch.tensor(sourceTensor).\n",
      "/Users/joosep/anaconda3/lib/python3.7/site-packages/ipykernel_launcher.py:34: UserWarning: To copy construct from a tensor, it is recommended to use sourceTensor.clone().detach() or sourceTensor.clone().detach().requires_grad_(True), rather than torch.tensor(sourceTensor).\n"
     ]
    },
    {
     "name": "stdout",
     "output_type": "stream",
     "text": [
      "0 2379.8126672363283\n",
      "1 1554.1701953125\n",
      "2 1461.378017578125\n"
     ]
    }
   ],
   "source": [
    "train_loader = DataLoader(full_dataset, batch_size=1, pin_memory=True, shuffle=False)\n",
    "model = EdgeNet(input_dim=input_dim, hidden_dim=hidden_dim, edge_dim=edge_dim, n_iters=n_iters).to(device)\n",
    "optimizer = torch.optim.Adam(model.parameters(), lr = lr)\n",
    "loss = torch.nn.MSELoss()\n",
    "\n",
    "print(model)\n",
    "model_parameters = filter(lambda p: p.requires_grad, model.parameters())\n",
    "params = sum([np.prod(p.size()) for p in model_parameters])\n",
    "print(params)\n",
    "\n",
    "model.train()\n",
    "data = data.to(device)\n",
    "\n",
    "losses = []\n",
    "for j in range(100):\n",
    "    losses_batch = []\n",
    "    for i in range(50):\n",
    "        data = full_dataset.get(i)\n",
    "        data.batch = torch.zeros(data.x.shape[0], dtype=torch.long)\n",
    "        optimizer.zero_grad()\n",
    "        batch_target = data.y        \n",
    "        batch_output, pool_clusters1, pool_clusters2 = model(data)\n",
    "\n",
    "        n = min(batch_output.shape[0], data.y.shape[0])\n",
    "\n",
    "        #Compute loss within each block that are known in advance\n",
    "        batch_loss = []\n",
    "        \n",
    "        #loop over all block ids\n",
    "        for cl in np.unique(data.y_cluster_labels):\n",
    "            \n",
    "            #find the elements and candidates corresponding to this block\n",
    "            m1 = torch.tensor(data.y_cluster_labels == cl)\n",
    "            m2 = torch.tensor(data.x_cluster_labels == cl)\n",
    "            \n",
    "            #get the predicted candidates that use elements from this block\n",
    "            pred = batch_output[pool_clusters2[pool_clusters1[m2]]]\n",
    "            tgt = data.y[m1]\n",
    "            n = min(pred.shape[0], tgt.shape[0])\n",
    "            batch_loss += [loss(pred[:n], tgt[:n])]\n",
    "            \n",
    "        batch_loss = sum(batch_loss)\n",
    "        batch_loss.backward()\n",
    "        batch_loss_item = batch_loss.item()\n",
    "        optimizer.step()\n",
    "\n",
    "        losses_batch += [batch_loss_item]\n",
    "    data = full_dataset.get(i)\n",
    "    data.batch = torch.zeros(data.x.shape[0], dtype=torch.long)\n",
    "    batch_output = model(data)\n",
    "    \n",
    "    l = np.mean(losses_batch)\n",
    "    losses += [l]\n",
    "    print(j, l)"
   ]
  },
  {
   "cell_type": "code",
   "execution_count": 167,
   "metadata": {},
   "outputs": [],
   "source": [
    "import matplotlib.pyplot as plt"
   ]
  },
  {
   "cell_type": "code",
   "execution_count": 168,
   "metadata": {},
   "outputs": [
    {
     "data": {
      "text/plain": [
       "[<matplotlib.lines.Line2D at 0x1a3108ccd0>]"
      ]
     },
     "execution_count": 168,
     "metadata": {},
     "output_type": "execute_result"
    },
    {
     "data": {
      "image/png": "[encoded data removed]",
      "text/plain": [
       "<Figure size 432x288 with 1 Axes>"
      ]
     },
     "metadata": {
      "needs_background": "light"
     },
     "output_type": "display_data"
    }
   ],
   "source": [
    "plt.plot(losses)"
   ]
  },
  {
   "cell_type": "code",
   "execution_count": 170,
   "metadata": {},
   "outputs": [],
   "source": [
    "data = full_dataset.get(i + 1)\n",
    "data.batch = torch.zeros(data.x.shape[0], dtype=torch.long)\n",
    "prd = model(data)"
   ]
  },
  {
   "cell_type": "code",
   "execution_count": 171,
   "metadata": {
    "scrolled": false
   },
   "outputs": [],
   "source": [
    "# for cl in np.unique(data.y_cluster_labels):\n",
    "#     m1 = torch.tensor(data.y_cluster_labels == cl)\n",
    "#     m2 = torch.tensor(data.x_cluster_labels == cl)\n",
    "#     pred = prd[0][prd[1][m2]]\n",
    "#     tgt = data.y[m1]\n",
    "#     print(pred.detach().numpy()[:, 1], tgt.detach().numpy()[:, 1])"
   ]
  },
  {
   "cell_type": "code",
   "execution_count": 172,
   "metadata": {},
   "outputs": [
    {
     "data": {
      "image/png": "[encoded data removed]",
      "text/plain": [
       "<Figure size 432x288 with 1 Axes>"
      ]
     },
     "metadata": {
      "needs_background": "light"
     },
     "output_type": "display_data"
    }
   ],
   "source": [
    "b = np.linspace(0,10,100)\n",
    "plt.hist(prd[0][:, 0].detach().numpy(), bins=b, lw=2, histtype=\"step\");\n",
    "plt.hist(data.y[:, 0].detach().numpy(), bins=b, lw=2, histtype=\"step\");"
   ]
  },
  {
   "cell_type": "code",
   "execution_count": 174,
   "metadata": {},
   "outputs": [
    {
     "data": {
      "image/png": "[encoded data removed]",
      "text/plain": [
       "<Figure size 432x288 with 1 Axes>"
      ]
     },
     "metadata": {
      "needs_background": "light"
     },
     "output_type": "display_data"
    }
   ],
   "source": [
    "b = np.linspace(-5,5,100)\n",
    "plt.hist(prd[0][:, 1].detach().numpy(), bins=b, lw=2, histtype=\"step\");\n",
    "plt.hist(data.y[:, 1].detach().numpy(), bins=b, lw=2, histtype=\"step\");"
   ]
  },
  {
   "cell_type": "code",
   "execution_count": 175,
   "metadata": {},
   "outputs": [
    {
     "data": {
      "image/png": "[encoded data removed]",
      "text/plain": [
       "<Figure size 432x288 with 1 Axes>"
      ]
     },
     "metadata": {
      "needs_background": "light"
     },
     "output_type": "display_data"
    }
   ],
   "source": [
    "b = np.linspace(-5, 5, 100)\n",
    "plt.hist(prd[0][:, 2].detach().numpy(), bins=b, lw=2, histtype=\"step\");\n",
    "plt.hist(data.y[:, 2].detach().numpy(), bins=b, lw=2, histtype=\"step\");"
   ]
  },
  {
   "cell_type": "code",
   "execution_count": null,
   "metadata": {},
   "outputs": [],
   "source": []
  }
 ],
 "metadata": {
  "kernelspec": {
   "display_name": "Python 3",
   "language": "python",
   "name": "python3"
  },
  "language_info": {
   "codemirror_mode": {
    "name": "ipython",
    "version": 3
   },
   "file_extension": ".py",
   "mimetype": "text/x-python",
   "name": "python",
   "nbconvert_exporter": "python",
   "pygments_lexer": "ipython3",
   "version": "3.7.4"
  }
 },
 "nbformat": 4,
 "nbformat_minor": 2
}
