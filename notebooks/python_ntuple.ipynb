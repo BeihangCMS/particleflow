{
 "cells": [
  {
   "cell_type": "code",
   "execution_count": null,
   "metadata": {
    "scrolled": false
   },
   "outputs": [],
   "source": [
    "import os\n",
    "os.environ[\"CUDA_VISIBLE_DEVICES\"]=\"-1\"    \n",
    "os.environ[\"KERAS_BACKEND\"] = \"tensorflow\"\n",
    "\n",
    "import numpy as np\n",
    "import glob\n",
    "import matplotlib.pyplot as plt\n",
    "import numba\n",
    "from collections import Counter\n",
    "import math\n",
    "import sklearn\n",
    "import sklearn.metrics\n",
    "import sklearn.ensemble\n",
    "import sklearn.cluster\n",
    "import scipy.sparse\n",
    "import keras\n",
    "import sys\n",
    "import pickle\n",
    "import matplotlib\n",
    "\n",
    "sys.path += [\"../test\"]\n",
    "from train_clustering import encode_triu, decode_triu\n",
    "from train_regression import get_unique_X_y\n",
    "\n",
    "from matplotlib.colors import LogNorm"
   ]
  },
  {
   "cell_type": "code",
   "execution_count": null,
   "metadata": {
    "scrolled": true
   },
   "outputs": [],
   "source": [
    "@numba.njit\n",
    "def get_types_in_block(X, y, blk):\n",
    "    return [int(x) for x in sorted(X[y==blk, 0])]\n",
    "\n",
    "def get_blocksize_candsize_matrix(el_bl_id, cand_bl_id):\n",
    "    blids = np.unique(el_bl_id)\n",
    "    sizes = np.zeros((len(blids), 2), dtype=np.float32)\n",
    "    i = 0\n",
    "    els_counter = Counter(el_bl_id)\n",
    "    cands_counter = Counter(cand_bl_id)\n",
    "    for bl in blids:\n",
    "        sizes[i, 0] = els_counter[bl]\n",
    "        sizes[i, 1] = cands_counter[bl]\n",
    "        i += 1\n",
    "        \n",
    "    b = np.linspace(0,20,21)\n",
    "    c, _, _ = np.histogram2d(sizes[:, 0], sizes[:, 1], bins=(b, b))\n",
    "    return c"
   ]
  },
  {
   "cell_type": "markdown",
   "metadata": {
    "scrolled": true
   },
   "source": [
    "Load all elements"
   ]
  },
  {
   "cell_type": "code",
   "execution_count": null,
   "metadata": {
    "scrolled": false
   },
   "outputs": [],
   "source": [
    "all_sgs = []\n",
    "\n",
    "num_clusters = []\n",
    "num_tracks = []\n",
    "num_cands = []\n",
    "num_blocks = []\n",
    "\n",
    "blsize_candsize_matrices = []\n",
    "\n",
    "for fi in glob.glob(\"../data/TTbar/*ev*.npz\")[:10]:\n",
    "    fi = open(fi, \"rb\")\n",
    "    data = np.load(fi)\n",
    "    \n",
    "    #list of PF input elements in the event\n",
    "    X = data[\"elements\"]\n",
    "    \n",
    "    #tracks have type=1\n",
    "    num_clusters += [np.sum(X[:, 0] != 1)]\n",
    "    num_tracks += [np.sum(X[:, 0] == 1)]\n",
    "    \n",
    "    #unique ID for each cluster/block of elements that the PFAlgo considered independently\n",
    "    #this can be considered as the target output of an improved PFBlockAlgo\n",
    "    y = data[\"element_block_id\"]\n",
    "    num_blocks += [len(np.unique(y))]\n",
    "\n",
    "    #List of candidates produced in the event.\n",
    "    #This can be considered as the output of PFAlgo\n",
    "    cands = data[\"candidates\"]\n",
    "    num_cands += [len(cands)]\n",
    "\n",
    "    #get the types of the elements for each cluster/block\n",
    "    sgs = [tuple(get_types_in_block(X, y, blk)) for blk in np.unique(y)]\n",
    "    all_sgs += sgs\n",
    "    \n",
    "    blsize_candsize_matrices += [get_blocksize_candsize_matrix(data[\"element_block_id\"], data[\"candidate_block_id\"])]"
   ]
  },
  {
   "cell_type": "code",
   "execution_count": null,
   "metadata": {},
   "outputs": [],
   "source": [
    "bins = np.linspace(0,20,21)"
   ]
  },
  {
   "cell_type": "code",
   "execution_count": null,
   "metadata": {},
   "outputs": [],
   "source": [
    "plt.figure(figsize=(6,6))\n",
    "cmat = sum(blsize_candsize_matrices)\n",
    "plt.imshow(cmat, norm=LogNorm(vmin=1, vmax=10*np.sum(cmat)), origin=\"lower\", interpolation=None)\n",
    "\n",
    "plt.colorbar()\n",
    "plt.xticks(bins);\n",
    "plt.yticks(bins);\n",
    "\n",
    "plt.title(\"Miniblock size to number of\\nproduced PFCandidates\")\n",
    "plt.xlabel(\"number of candidates\")\n",
    "plt.ylabel(\"number of elements in block\")"
   ]
  },
  {
   "cell_type": "code",
   "execution_count": null,
   "metadata": {},
   "outputs": [],
   "source": [
    "plt.plot(bins[:-1], cmat.sum(axis=1).cumsum()/np.sum(cmat), marker=\"o\")\n",
    "plt.xticks(bins);\n",
    "plt.xlabel(\"maximum block size\")\n",
    "plt.ylabel(\"fraction of candidates\")\n",
    "plt.xlim(0,3)"
   ]
  },
  {
   "cell_type": "code",
   "execution_count": null,
   "metadata": {},
   "outputs": [],
   "source": [
    "plt.plot(bins[:-1], cmat.sum(axis=1).cumsum()/np.sum(cmat), marker=\"o\")\n",
    "plt.xticks(bins);\n",
    "plt.xlabel(\"maximum block size\")\n",
    "plt.ylabel(\"fraction of candidates\")\n",
    "plt.ylim(0.9, 1.0)\n",
    "plt.xlim(2,20)"
   ]
  },
  {
   "cell_type": "code",
   "execution_count": null,
   "metadata": {
    "scrolled": true
   },
   "outputs": [],
   "source": [
    "plt.hist(num_clusters, bins=np.linspace(0, 5000, 100), label=\"clusters\", alpha=0.5);\n",
    "plt.hist(num_tracks, bins=np.linspace(0, 5000, 100), label=\"tracks\", alpha=0.5);\n",
    "plt.hist(num_blocks, bins=np.linspace(0, 5000, 100), label=\"blocks\", alpha=0.5);\n",
    "plt.hist(num_cands, bins=np.linspace(0, 5000, 100), label=\"candidates\", alpha=0.5);\n",
    "plt.legend()\n",
    "plt.xlabel(\"number of els/cands/blocks\")\n",
    "plt.ylabel(\"number of events\")"
   ]
  },
  {
   "cell_type": "markdown",
   "metadata": {},
   "source": [
    "Now we look at the number of blocks of a certain size."
   ]
  },
  {
   "cell_type": "code",
   "execution_count": null,
   "metadata": {
    "scrolled": true
   },
   "outputs": [],
   "source": [
    "block_sizes = Counter([len(sg) for sg in all_sgs])\n",
    "print(\"block sizes\", block_sizes)"
   ]
  },
  {
   "cell_type": "code",
   "execution_count": null,
   "metadata": {
    "scrolled": true
   },
   "outputs": [],
   "source": [
    "plt.hist([len(sg) for sg in all_sgs], bins=np.linspace(0,100,101));\n",
    "plt.xlabel(\"block size\")\n",
    "plt.ylabel(\"Number of blocks\")"
   ]
  },
  {
   "cell_type": "code",
   "execution_count": null,
   "metadata": {
    "scrolled": true
   },
   "outputs": [],
   "source": [
    "plt.hist([len(sg) for sg in all_sgs], bins=np.linspace(0,100,101));\n",
    "plt.yscale(\"log\")\n",
    "plt.xlabel(\"block size\")\n",
    "plt.ylabel(\"number of blocks\")"
   ]
  },
  {
   "cell_type": "markdown",
   "metadata": {},
   "source": [
    "Let's look at what the blocks f size, 1, 2, 3 and 4 are made of."
   ]
  },
  {
   "cell_type": "code",
   "execution_count": null,
   "metadata": {
    "scrolled": false
   },
   "outputs": [],
   "source": [
    "def plot_block_nelem(blocks_nelem):\n",
    "    kv = list(blocks_nelem.items())\n",
    "    xs = np.arange(len(kv))\n",
    "    ys = np.array([v for k, v in kv])\n",
    "\n",
    "    plt.bar(xs, ys)\n",
    "    plt.xticks(xs, [k for k, v in kv], rotation=90)\n",
    "    \n",
    "\n",
    "for blocksize in range(1,5):\n",
    "    sizes = [\",\".join(map(str, sg)) for sg in all_sgs if len(sg)==blocksize]\n",
    "    blocks_nelem = Counter(sizes)\n",
    "    print(\"{0}-element blocks\".format(blocksize), blocks_nelem)\n",
    "    plt.figure(figsize=(4,4))\n",
    "    plt.title(\"Blocks of size {0}: {1} ({2:.0f}%)\".format(blocksize, len(sizes), 100.0*len(sizes)/len(all_sgs)))\n",
    "    plot_block_nelem(blocks_nelem)\n",
    "    plt.xlabel(\"Block element types\")"
   ]
  },
  {
   "cell_type": "markdown",
   "metadata": {},
   "source": [
    "Look at the first 10 blocks."
   ]
  },
  {
   "cell_type": "code",
   "execution_count": null,
   "metadata": {},
   "outputs": [],
   "source": [
    "fi = open(\"../data/TTbar/step3_AOD_1_ev0.npz\", \"rb\")\n",
    "data = np.load(fi)\n",
    "\n",
    "dm = scipy.sparse.load_npz(open(\"../data/TTbar/step3_AOD_1_dist0.npz\", \"rb\")).todense()\n",
    "dm[dm==0] = 999"
   ]
  },
  {
   "cell_type": "code",
   "execution_count": null,
   "metadata": {
    "scrolled": false
   },
   "outputs": [],
   "source": [
    "block_ids = data[\"element_block_id\"]\n",
    "inds_elem = np.arange(len(data[\"elements\"]))\n",
    "inds_cand = np.arange(len(data[\"candidates\"]))\n",
    "for blk in np.unique(block_ids)[:20]:\n",
    "    candidates_from_block = data[\"candidate_block_id\"] == blk\n",
    "    elems_in_block = data[\"element_block_id\"] == blk\n",
    "    \n",
    "    print(\"in block\", blk, \"had the following elements: {0}\".format(get_types_in_block(data[\"elements\"], data[\"element_block_id\"], blk)))\n",
    "    for ielem in inds_elem[elems_in_block]:\n",
    "        print(\"  elements[{0}]: type={1} energy={2:.2f}\".format(ielem, int(data[\"elements\"][ielem, 0]), data[\"elements\"][ielem, 1]))\n",
    "    print(\"from which the following candidates were produced\")\n",
    "    for icand in inds_cand[candidates_from_block]:\n",
    "        print(\"  candidates[{0}]: pdgid={1} pt={2:.2f}\".format(icand, int(data[\"candidates\"][icand, 0]), data[\"candidates\"][icand, 1]))\n",
    "    print()"
   ]
  },
  {
   "cell_type": "code",
   "execution_count": null,
   "metadata": {},
   "outputs": [],
   "source": [
    "import matplotlib.colors as mcolors"
   ]
  },
  {
   "cell_type": "code",
   "execution_count": null,
   "metadata": {},
   "outputs": [],
   "source": [
    "# NONE=0,\n",
    "# TRACK=1, \n",
    "# PS1=2, \n",
    "# PS2=3, \n",
    "# ECAL=4, \n",
    "# HCAL=5,\n",
    "# GSF=6,\n",
    "# BREM=7,\n",
    "# HFEM=8,\n",
    "# HFHAD=9,\n",
    "# SC=10,\n",
    "# HO=11"
   ]
  },
  {
   "cell_type": "code",
   "execution_count": null,
   "metadata": {},
   "outputs": [],
   "source": [
    "def get_tracker_surface(elements, candidates):\n",
    "    coords_trk = []\n",
    "    coords_cand = []\n",
    "    for iel in range(len(elements)):\n",
    "        tp = elements[iel, 0]\n",
    "        if tp == 1 and elements[iel, 2]!=0 and elements[iel, 3]!=0:\n",
    "            coords_trk += [(elements[iel, 2], elements[iel, 3])]\n",
    "    for icand in range(len(candidates)):\n",
    "        coords_cand += [(candidates[icand, 2], candidates[icand, 3], candidates[icand, 0])]\n",
    "    return coords_trk, coords_cand\n",
    "\n",
    "def get_ecal_surface(elements):\n",
    "    coords_trk = []\n",
    "    coords_cal = []\n",
    "    for iel in range(len(elements)):\n",
    "        tp = elements[iel, 0]\n",
    "        if (tp ==1 or tp == 6) and (elements[iel, 4] != 0 and elements[iel, 5] != 0):\n",
    "            coords_trk += [(elements[iel, 4], elements[iel, 5])]\n",
    "        elif tp == 2 or tp == 3 or tp == 4 or tp == 10:\n",
    "            coords_cal += [(elements[iel, 2], elements[iel, 3])]\n",
    "    return coords_trk, coords_cal\n",
    "\n",
    "def get_hcal_surface(elements):\n",
    "    coords_trk = []\n",
    "    coords_cal = []\n",
    "    for iel in range(len(elements)):\n",
    "        tp = elements[iel, 0]\n",
    "        if tp == 1 and elements[iel, 6] != 0 and elements[iel, 7] != 0:\n",
    "            coords_trk += [(elements[iel, 6], elements[iel, 7])]\n",
    "        elif tp == 5:\n",
    "            coords_cal += [(elements[iel, 2], elements[iel, 3])]\n",
    "    return coords_trk, coords_cal\n",
    "\n",
    "def get_hf_surface(elements):\n",
    "    coords_cal = []\n",
    "    for iel in range(len(elements)):\n",
    "        tp = elements[iel, 0]\n",
    "        if tp == 8 or tp == 9 or tp == 11:\n",
    "            coords_cal += [(elements[iel, 2], elements[iel, 3])]\n",
    "    return coords_cal\n",
    "\n",
    "def render_candidates(ax, cands, color, alpha=1.0, do_label=True):\n",
    "    for c in cands:\n",
    "        ax.scatter([c[0]], [c[1]], s=50, marker=\"o\", color=color, alpha=alpha)\n",
    "        if do_label:\n",
    "            ax.text(c[0]+0.5, c[1], \"{0}\".format(int(c[2])), ha=\"left\", va=\"center\", alpha=alpha)\n",
    "        \n",
    "def render_tracks(ax, tracks, color, alpha=1.0):\n",
    "    for t in tracks:\n",
    "        ax.scatter([t[0]], [t[1]], marker=\"x\", color=color, alpha=alpha)\n",
    "        \n",
    "def render_calo(ax, clusters, color, alpha=1.0):\n",
    "    for c in clusters:\n",
    "        ax.scatter([c[0]], [c[1]], s=50, marker=\"s\", color=color, alpha=alpha)"
   ]
  },
  {
   "cell_type": "code",
   "execution_count": null,
   "metadata": {},
   "outputs": [],
   "source": [
    "block_id = 10\n",
    "tracker_coords_trk, tracker_coords_cand = get_tracker_surface(\n",
    "    data[\"elements\"][data[\"element_block_id\"] == block_id],\n",
    "    data[\"candidates\"][data[\"candidate_block_id\"] == block_id])\n",
    "ecal_coords_trk, ecal_coords_cal = get_ecal_surface(data[\"elements\"][data[\"element_block_id\"] == block_id])\n",
    "hcal_coords_trk, hcal_coords_cal = get_hcal_surface(data[\"elements\"][data[\"element_block_id\"] == block_id])"
   ]
  },
  {
   "cell_type": "code",
   "execution_count": null,
   "metadata": {},
   "outputs": [],
   "source": [
    "import matplotlib.colors as mcolors\n",
    "import ipywidgets.widgets as widgets\n",
    "block_ids = np.unique(data[\"element_block_id\"])\n",
    "\n",
    "@widgets.interact_manual(index=(0, 1000), num_blocks=(1,5))\n",
    "def plot_blocks_index(index=0, num_blocks=1):\n",
    "\n",
    "    colors = list(mcolors.TABLEAU_COLORS)\n",
    "\n",
    "    fig = plt.figure(figsize=(10, 10), dpi=100)\n",
    "\n",
    "    ax1 = plt.subplot(2,2,1)\n",
    "    plt.title(\"tracker surface\")\n",
    "    plt.xlim(-6, 6)\n",
    "    plt.ylim(-4, 4)\n",
    "\n",
    "    ax2 = plt.subplot(2,2,2)\n",
    "    plt.title(\"ECAL\")\n",
    "    plt.xlim(-6, 6)\n",
    "    plt.ylim(-4, 4)\n",
    "\n",
    "    ax3 = plt.subplot(2,2,3)\n",
    "    plt.title(\"HCAL\")\n",
    "    plt.xlim(-6, 6)\n",
    "    plt.ylim(-4, 4)\n",
    "\n",
    "    ax4 = plt.subplot(2,2,4)\n",
    "    plt.title(\"HF\")\n",
    "    plt.xlim(-6, 6)\n",
    "    plt.ylim(-4, 4)\n",
    "\n",
    "    block_ids_plot = block_ids[index*num_blocks:index*num_blocks + num_blocks]\n",
    "    title_string = \"Blocks [{0}]\".format(\", \".join([str(s) for s in block_ids_plot]))\n",
    "\n",
    "    for blid in block_ids_plot:\n",
    "        l1 = list(data[\"elements\"][data[\"element_block_id\"] == blid][:, 0].astype(int))\n",
    "        l2 = list(data[\"candidates\"][data[\"candidate_block_id\"] == blid][:, 0].astype(int))\n",
    "        if len(l1)>5:\n",
    "            l1 = l1[:5] + [\"...\"]\n",
    "        if len(l2)>5:\n",
    "            l2 = l2[:5] + [\"...\"]\n",
    "        l1 = \"[\" + \", \".join([str(x) for x in l1]) + \"]\"\n",
    "        l2 = \"[\" + \", \".join([str(x) for x in l2]) + \"]\"\n",
    "        title_string += \"\\nBlock {0}: {1} -> {2}\".format(\n",
    "            blid,\n",
    "            l1,\n",
    "            l2,\n",
    "        )\n",
    "    plt.suptitle(title_string, y=0.9, va=\"bottom\")\n",
    "\n",
    "    tracker_coords_trk, tracker_coords_cand = get_tracker_surface(\n",
    "        data[\"elements\"],\n",
    "        data[\"candidates\"])\n",
    "    ecal_coords_trk, ecal_coords_cal = get_ecal_surface(data[\"elements\"])\n",
    "    hcal_coords_trk, hcal_coords_cal = get_hcal_surface(data[\"elements\"])\n",
    "    hf_coords_cal = get_hf_surface(data[\"elements\"])\n",
    "\n",
    "    render_candidates(ax1, tracker_coords_cand, \"gray\", alpha=0.05, do_label=False)\n",
    "    render_tracks(ax1, tracker_coords_trk, \"gray\", alpha=0.05)\n",
    "\n",
    "    render_calo(ax2, ecal_coords_cal, \"gray\", alpha=0.05)\n",
    "    render_tracks(ax2, ecal_coords_trk, \"gray\", alpha=0.05)\n",
    "\n",
    "    render_calo(ax3, hcal_coords_cal, \"gray\", alpha=0.05)\n",
    "    render_tracks(ax3, hcal_coords_trk, \"gray\", alpha=0.05)\n",
    "\n",
    "    render_calo(ax4, hf_coords_cal, \"gray\", alpha=0.05)\n",
    "        \n",
    "    for block_id in block_ids_plot:\n",
    "        color = colors.pop()\n",
    "\n",
    "        tracker_coords_trk, tracker_coords_cand = get_tracker_surface(\n",
    "            data[\"elements\"][data[\"element_block_id\"] == block_id],\n",
    "            data[\"candidates\"][data[\"candidate_block_id\"] == block_id])\n",
    "        ecal_coords_trk, ecal_coords_cal = get_ecal_surface(data[\"elements\"][data[\"element_block_id\"] == block_id])\n",
    "        hcal_coords_trk, hcal_coords_cal = get_hcal_surface(data[\"elements\"][data[\"element_block_id\"] == block_id])\n",
    "        hf_coords_cal = get_hf_surface(data[\"elements\"][data[\"element_block_id\"] == block_id])\n",
    "\n",
    "        render_candidates(ax1, tracker_coords_cand, color, alpha=0.5)\n",
    "        render_tracks(ax1, tracker_coords_trk, color)\n",
    "\n",
    "        render_calo(ax2, ecal_coords_cal, color, alpha=0.5)\n",
    "        render_tracks(ax2, ecal_coords_trk, color)\n",
    "\n",
    "        render_calo(ax3, hcal_coords_cal, color, alpha=0.5)\n",
    "        render_tracks(ax3, hcal_coords_trk, color)\n",
    "\n",
    "        render_calo(ax4, hf_coords_cal, color, alpha=0.5)"
   ]
  },
  {
   "cell_type": "code",
   "execution_count": null,
   "metadata": {
    "scrolled": false
   },
   "outputs": [],
   "source": [
    "# for i in range(585):\n",
    "#     plot_blocks_index(i, 3)\n",
    "#     plt.savefig(\"blocks_idx{0}.png\".format(i), bbox_inches=0)\n",
    "#     plt.clf()"
   ]
  },
  {
   "cell_type": "code",
   "execution_count": null,
   "metadata": {},
   "outputs": [],
   "source": [
    "import networkx as nx"
   ]
  },
  {
   "cell_type": "code",
   "execution_count": null,
   "metadata": {},
   "outputs": [],
   "source": [
    "def cluster_with_dm_aspf(dm):       \n",
    "    dm2 = dm.copy()\n",
    "    dm2[dm2==999] = 0\n",
    "    dm2[dm2>0] = 1\n",
    "    g = nx.from_numpy_matrix(dm2)\n",
    "\n",
    "    block_id_aspf = np.zeros_like(data[\"element_block_id\"])\n",
    "    for ibl, conn in enumerate(nx.connected_components(g)):\n",
    "        block_id_aspf[np.array(list(conn), dtype=np.int32)] = ibl\n",
    "        \n",
    "    return block_id_aspf\n",
    "\n",
    "def cluster_with_dm_optics(dm):       \n",
    "    dm2 = dm.copy()\n",
    "    dm2[dm2==0] = 999\n",
    "    print(dm2)\n",
    "    optics = sklearn.cluster.OPTICS(min_samples=1, metric=\"precomputed\", max_eps=0.25)\n",
    "    res = optics.fit_predict(dm2)\n",
    "        \n",
    "    return res"
   ]
  },
  {
   "cell_type": "code",
   "execution_count": null,
   "metadata": {},
   "outputs": [],
   "source": [
    "block_id_aspf = cluster_with_dm_aspf(dm)\n",
    "block_id_optics = cluster_with_dm_optics(dm)"
   ]
  },
  {
   "cell_type": "code",
   "execution_count": null,
   "metadata": {},
   "outputs": [],
   "source": [
    "sklearn.metrics.adjusted_rand_score(data[\"element_block_id\"], block_id_aspf)"
   ]
  },
  {
   "cell_type": "code",
   "execution_count": null,
   "metadata": {},
   "outputs": [],
   "source": [
    "sklearn.metrics.adjusted_rand_score(data[\"element_block_id\"], block_id_optics)"
   ]
  },
  {
   "cell_type": "code",
   "execution_count": null,
   "metadata": {},
   "outputs": [],
   "source": [
    "sklearn.metrics.adjusted_mutual_info_score(data[\"element_block_id\"], block_id_aspf, average_method='arithmetic')"
   ]
  },
  {
   "cell_type": "code",
   "execution_count": null,
   "metadata": {},
   "outputs": [],
   "source": [
    "sklearn.metrics.adjusted_mutual_info_score(data[\"element_block_id\"], block_id_optics, average_method='arithmetic')"
   ]
  },
  {
   "cell_type": "code",
   "execution_count": null,
   "metadata": {},
   "outputs": [],
   "source": [
    "msk_tracks_in_ecal = np.zeros(len(data[\"elements\"]), dtype=np.bool)"
   ]
  },
  {
   "cell_type": "code",
   "execution_count": null,
   "metadata": {},
   "outputs": [],
   "source": [
    "@numba.njit\n",
    "def find_tracks_in_ecal(elements):\n",
    "    res = np.zeros((len(elements), ), dtype=np.int32)\n",
    "    for i in range(len(elements)):\n",
    "        tp = elements[i, 0]\n",
    "        if tp == 1 or tp == 6:\n",
    "            if elements[i, 4] != 0 and elements[i, 5] != 0:\n",
    "                res[i] = 1\n",
    "    return res == 1\n",
    "\n",
    "@numba.njit\n",
    "def find_tracks_in_hcal(elements):\n",
    "    res = np.zeros((len(elements), ), dtype=np.int32)\n",
    "    for i in range(len(elements)):\n",
    "        tp = elements[i, 0]\n",
    "        if tp == 1:\n",
    "            if elements[i, 6] != 0 and elements[i, 7] != 0:\n",
    "                res[i] = 1\n",
    "    return res == 1\n",
    "\n",
    "@numba.njit\n",
    "def find_hcal_clusters(elements):\n",
    "    res = np.zeros((len(elements), ), dtype=np.int32)\n",
    "    for i in range(len(elements)):\n",
    "        tp = elements[i, 0]\n",
    "        if tp == 5:\n",
    "            res[i] = 1\n",
    "    return res==1\n",
    "\n",
    "@numba.njit\n",
    "def find_ecal_clusters(elements):\n",
    "    res = np.zeros((len(elements), ), dtype=np.int32)\n",
    "    for i in range(len(elements)):\n",
    "        tp = elements[i, 0]\n",
    "        if tp == 4:\n",
    "            res[i] = 1\n",
    "    return res==1"
   ]
  },
  {
   "cell_type": "code",
   "execution_count": null,
   "metadata": {},
   "outputs": [],
   "source": [
    "msk_trks_ecal = find_tracks_in_ecal(data[\"elements\"])\n",
    "trks_ecal = data[\"elements\"][msk_trks_ecal, 4:6]\n",
    "\n",
    "msk_ecal_clusters = find_ecal_clusters(data[\"elements\"])\n",
    "ecal_clusters = data[\"elements\"][msk_ecal_clusters, 2:4]\n",
    "\n",
    "plt.figure(figsize=(20, 20))\n",
    "plt.title(\"ECAL surface\")\n",
    "plt.scatter(trks_ecal[:, 0], trks_ecal[:, 1], marker=\"x\", color=\"gray\")\n",
    "plt.scatter(ecal_clusters[:, 0], ecal_clusters[:, 1], s=100, marker=\"s\", alpha=0.5, color=\"gray\")"
   ]
  },
  {
   "cell_type": "code",
   "execution_count": null,
   "metadata": {},
   "outputs": [],
   "source": [
    "msk_trks_hcal = find_tracks_in_hcal(data[\"elements\"])\n",
    "trks_hcal = data[\"elements\"][msk_trks_hcal, 6:8]\n",
    "\n",
    "msk_hcal_clusters = find_hcal_clusters(data[\"elements\"])\n",
    "hcal_clusters = data[\"elements\"][msk_hcal_clusters, 2:4]\n",
    "\n",
    "plt.figure(figsize=(20, 20))\n",
    "plt.title(\"HCAL surface\")\n",
    "plt.scatter(trks_hcal[:, 0], trks_hcal[:, 1], marker=\"x\", color=\"gray\")\n",
    "plt.scatter(hcal_clusters[:, 0], hcal_clusters[:, 1], s=100, marker=\"s\", alpha=0.5, color=\"gray\")"
   ]
  },
  {
   "cell_type": "code",
   "execution_count": null,
   "metadata": {},
   "outputs": [],
   "source": [
    "@numba.njit\n",
    "def dist(points, i, j):\n",
    "    p0 = points[i]\n",
    "    p1 = points[j]\n",
    "    #dphi = np.mod(p0[1] - p1[1], 2*math.pi) - math.pi\n",
    "    dphi = p0[1] - p1[1]\n",
    "    dphi = np.mod(dphi + np.pi, 2*np.pi) - np.pi\n",
    "    deta = p0[0] - p1[0]\n",
    "    return np.sqrt(dphi**2 + deta**2)"
   ]
  },
  {
   "cell_type": "code",
   "execution_count": null,
   "metadata": {},
   "outputs": [],
   "source": [
    "@numba.njit\n",
    "def fill_local_density(points, points_data, dc=0.3):\n",
    "    points_data[:, 0] = 0\n",
    "    \n",
    "    Np = len(points)\n",
    "    for i in range(Np):\n",
    "        for j in range(Np):\n",
    "            d = dist(points, i, j)\n",
    "            if d < dc:\n",
    "                fact = 1.0 if i==j else 0.5\n",
    "                points_data[i, 0] += points_data[j, 1]*fact\n",
    "\n",
    "@numba.njit\n",
    "def find_nearest_higher(points, points_data):\n",
    "    Np = len(points)\n",
    "    \n",
    "    for i in range(Np):\n",
    "        delta = 999.0\n",
    "        nearestHigher = -1\n",
    "        \n",
    "        for j in range(Np):\n",
    "            d = dist(points, i, j)\n",
    "            if d < delta and points_data[j, 0] > points_data[i, 0]:\n",
    "                nearestHigher = j\n",
    "                delta = d\n",
    "\n",
    "        points_data[i, 2] = delta\n",
    "        points_data[i, 3] = nearestHigher\n",
    "        \n",
    "\n",
    "def assign_cluster_id(points, points_types, points_data, rho_crit=10, delta_crit=0.2):\n",
    "    cluster_id = np.zeros((len(points),), dtype=np.int32)\n",
    "    Np = len(points)\n",
    "    nClusters = 0\n",
    "    \n",
    "    buffer_seeds = []\n",
    "    followers = {i: [] for i in range(Np)}\n",
    "    \n",
    "    for i in range(Np):\n",
    "        isSeed = (points_data[i, 0] > rho_crit) and (points_data[i, 2] > delta_crit)\n",
    "        isOutlier = (points_data[i, 0] <= rho_crit) and (points_data[i, 2] > 2*delta_crit)\n",
    "        \n",
    "        if isSeed and points_types[i]==5:\n",
    "            cluster_id[i] = nClusters\n",
    "            nClusters += 1\n",
    "            buffer_seeds += [i]\n",
    "        else:\n",
    "            if not isOutlier:\n",
    "                #add as a follower to the nearest highest point\n",
    "                nearestHighest = points_data[i, 3]\n",
    "                if nearestHighest != -1:\n",
    "                    followers[nearestHighest] += [i]\n",
    "    \n",
    "    #Now add set the cluster ID for all children of all seeds\n",
    "    while len(buffer_seeds) > 0:\n",
    "        i = buffer_seeds.pop()\n",
    "        for fl in followers[i]:\n",
    "            cluster_id[fl] = cluster_id[i]\n",
    "            buffer_seeds += [fl]\n",
    "\n",
    "    return cluster_id"
   ]
  },
  {
   "cell_type": "code",
   "execution_count": null,
   "metadata": {},
   "outputs": [],
   "source": [
    "points = np.vstack([trks_hcal, hcal_clusters])\n",
    "points_types = np.hstack([data[\"elements\"][msk_trks_hcal][:, 0], data[\"elements\"][msk_hcal_clusters][:, 0]])\n",
    "\n",
    "#rho, weight, delta, nearestHigher\n",
    "points_data = np.zeros((len(points), 4))\n",
    "points_data[:, 1] = 1.0\n",
    "\n",
    "fill_local_density(points, points_data)\n",
    "find_nearest_higher(points, points_data)\n",
    "clid = assign_cluster_id(points, points_types, points_data, rho_crit=0.5, delta_crit=0.1)\n",
    "clid_true = np.hstack([data[\"element_block_id\"][msk_trks_hcal], data[\"element_block_id\"][msk_hcal_clusters]])\n",
    "nclusters = len(np.unique(clid))"
   ]
  },
  {
   "cell_type": "code",
   "execution_count": null,
   "metadata": {},
   "outputs": [],
   "source": [
    "plt.hist(points_data[:, 0], bins=np.linspace(0,30,100));"
   ]
  },
  {
   "cell_type": "code",
   "execution_count": null,
   "metadata": {
    "scrolled": true
   },
   "outputs": [],
   "source": [
    "plt.hist(points_data[:, 2], bins=np.linspace(0,1,100));"
   ]
  },
  {
   "cell_type": "code",
   "execution_count": null,
   "metadata": {},
   "outputs": [],
   "source": [
    "plt.figure(figsize=(10, 10))\n",
    "plt.scatter(trks_hcal[:, 0], trks_hcal[:, 1], marker=\"x\")\n",
    "plt.scatter(hcal_clusters[:, 0], hcal_clusters[:, 1], marker=\"s\", alpha=0.2)"
   ]
  },
  {
   "cell_type": "code",
   "execution_count": null,
   "metadata": {},
   "outputs": [],
   "source": [
    "plt.figure(figsize=(10, 10))\n",
    "plt.scatter(points[:, 0], points[:, 1], points_data[:, 0]*5, alpha=0.2)"
   ]
  },
  {
   "cell_type": "code",
   "execution_count": null,
   "metadata": {},
   "outputs": [],
   "source": [
    "plt.figure(figsize=(10, 10))\n",
    "plt.scatter(points[:, 0], points[:, 1], points_data[:, 0]*5, alpha=0.2)\n",
    "\n",
    "for i in range(len(points)):\n",
    "    p0 = points[i]\n",
    "    idx_nearest = int(points_data[i, 3])\n",
    "    if idx_nearest != -1:\n",
    "        p1 = points[idx_nearest]\n",
    "        plt.plot([p0[0], p1[0]], [p0[1], p1[1]], marker=None, lw=1, color=\"black\")"
   ]
  },
  {
   "cell_type": "code",
   "execution_count": null,
   "metadata": {},
   "outputs": [],
   "source": [
    "len(clid), len(points_types)"
   ]
  },
  {
   "cell_type": "code",
   "execution_count": null,
   "metadata": {},
   "outputs": [],
   "source": [
    "def compute_cluster_centers(points, points_types, clid):\n",
    "    centers = {}\n",
    "    for i in np.unique(clid):\n",
    "        msk = (clid==i) & (points_types==5)\n",
    "        if np.sum(msk) > 0:\n",
    "            mx = np.mean(points[msk, 0])\n",
    "            my = np.mean(points[msk, 1])\n",
    "            centers[i] = (mx, my)\n",
    "    return centers"
   ]
  },
  {
   "cell_type": "code",
   "execution_count": null,
   "metadata": {},
   "outputs": [],
   "source": [
    "plt.figure(figsize=(10, 10))\n",
    "plt.scatter(points[:, 0], points[:, 1], alpha=0.2)\n",
    "\n",
    "centers = compute_cluster_centers(points, points_types, clid)\n",
    "\n",
    "for i in np.unique(clid):\n",
    "    ps = points[clid==i]\n",
    "    if i in centers.keys():\n",
    "        for p in ps:\n",
    "            if abs(p[1] - centers[i][1]) < 1.0:\n",
    "                plt.plot([p[0], centers[i][0]], [p[1], centers[i][1]], lw=1, marker=None, color=\"black\")"
   ]
  },
  {
   "cell_type": "code",
   "execution_count": null,
   "metadata": {},
   "outputs": [],
   "source": [
    "plt.figure(figsize=(10, 10))\n",
    "plt.scatter(trks_hcal[:, 0], trks_hcal[:, 1], marker=\"x\")\n",
    "plt.scatter(hcal_clusters[:, 0], hcal_clusters[:, 1], marker=\"s\", alpha=0.2)\n",
    "\n",
    "centers = compute_cluster_centers(points, points_types, clid_true)\n",
    "\n",
    "for i in np.unique(clid_true):\n",
    "    ps = points[clid_true==i]\n",
    "    if i in centers.keys():\n",
    "        for p in ps:\n",
    "            if abs(p[1] - centers[i][1]) < 1.0:\n",
    "                plt.plot([p[0], centers[i][0]], [p[1], centers[i][1]], lw=1, marker=None, color=\"black\")"
   ]
  },
  {
   "cell_type": "code",
   "execution_count": null,
   "metadata": {},
   "outputs": [],
   "source": [
    "sklearn.metrics.adjusted_rand_score(clid_true, clid)"
   ]
  },
  {
   "cell_type": "code",
   "execution_count": null,
   "metadata": {},
   "outputs": [],
   "source": []
  }
 ],
 "metadata": {
  "kernelspec": {
   "display_name": "Python 3",
   "language": "python",
   "name": "python3"
  },
  "language_info": {
   "codemirror_mode": {
    "name": "ipython",
    "version": 3
   },
   "file_extension": ".py",
   "mimetype": "text/x-python",
   "name": "python",
   "nbconvert_exporter": "python",
   "pygments_lexer": "ipython3",
   "version": "3.6.9"
  }
 },
 "nbformat": 4,
 "nbformat_minor": 2
}
